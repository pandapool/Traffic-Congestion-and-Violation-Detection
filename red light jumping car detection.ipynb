{
 "cells": [
  {
   "cell_type": "code",
   "execution_count": 1,
   "metadata": {},
   "outputs": [],
   "source": [
    "import cv2\n",
    "import matplotlib.pyplot as plt"
   ]
  },
  {
   "cell_type": "code",
   "execution_count": 6,
   "metadata": {},
   "outputs": [],
   "source": [
    "dcars = cv2.CascadeClassifier(\"c:/Users/hp/Desktop/TEST FOLDER/cars.xml\")\n",
    "d2whl = cv2.CascadeClassifier(\"c:/Users/hp/Desktop/TEST FOLDER/2wheel.xml\")"
   ]
  },
  {
   "cell_type": "code",
   "execution_count": 15,
   "metadata": {},
   "outputs": [
    {
     "name": "stdout",
     "output_type": "stream",
     "text": [
      "[]\n"
     ]
    }
   ],
   "source": [
    "cap = cv2.VideoCapture('f:/4Kroad.mp4')\n",
    "count = 0\n",
    "lincord = []\n",
    "def mouse(event,x,y,flags,params):\n",
    "    global count\n",
    "    if event == cv2.EVENT_LBUTTONDOWN:\n",
    "        if count<2:\n",
    "            lincord.append([x,y])\n",
    "            count = count + 1\n",
    "cv2.namedWindow('detect')\n",
    "cv2.setMouseCallback('detect',mouse)\n",
    "while True:\n",
    "    _,frame = cap.read()\n",
    "    if _==False:\n",
    "        break\n",
    "        \n",
    "    cv2.imshow(\"detect\",frame)\n",
    "    k = cv2.waitKey(5)\n",
    "    if k ==27:\n",
    "        break \n",
    "        \n",
    "cap.release()\n",
    "cv2.destroyAllWindows()\n",
    "print lincord"
   ]
  },
  {
   "cell_type": "code",
   "execution_count": 7,
   "metadata": {},
   "outputs": [],
   "source": [
    "cv2.destroyAllWindows()"
   ]
  },
  {
   "cell_type": "code",
   "execution_count": 4,
   "metadata": {},
   "outputs": [],
   "source": [
    "import os\n",
    "if not os.path.exists(\"c:/Users/hp/Desktop/redrunner\"):\n",
    "    os.makedirs(\"c:/Users/hp/Desktop/redrunner\")"
   ]
  },
  {
   "cell_type": "code",
   "execution_count": 14,
   "metadata": {},
   "outputs": [],
   "source": [
    "cap = cv2.VideoCapture('f:/4Kroad.mp4')\n",
    "count = 0\n",
    "while True:\n",
    "    _,frame = cap.read()\n",
    "    if _==False:\n",
    "        break\n",
    "    frame_copy = frame.copy()\n",
    "    cv2.line(frame_copy,tuple(lincord[0]),tuple(lincord[1]),(100,255,100),2)\n",
    "    f = frame[lincord[0][1]-50:lincord[1][1]+20,lincord[0][0]:lincord[1][0]]\n",
    "    #f = frame[lincord[0][1]-10:lincord[1][1]+18,lincord[0][0]:lincord[1][0]]\n",
    "    \n",
    "    car = dcars.detectMultiScale(f,1.01)\n",
    "    \n",
    "    for (a,b,c,d) in car:\n",
    "        cv2.rectangle(f,(a,b),(a+c,b+d),(225,0,0),1)\n",
    "        roi = f[b:b+d,a:a+c]\n",
    "        cv2.imwrite('c:/Users/hp/Desktop/redrunner/'+str(count)+'.jpeg',roi)\n",
    "        count+=1\n",
    "    \n",
    "    cv2.imshow('f',f)\n",
    "    cv2.imshow(\"detect\",frame_copy)\n",
    "    \n",
    "    k = cv2.waitKey(33)\n",
    "    if k ==27:\n",
    "        break \n",
    "        \n",
    "cap.release()\n",
    "cv2.destroyAllWindows()"
   ]
  },
  {
   "cell_type": "code",
   "execution_count": 47,
   "metadata": {},
   "outputs": [
    {
     "data": {
      "text/plain": [
       "<matplotlib.image.AxesImage at 0x2106d278>"
      ]
     },
     "execution_count": 47,
     "metadata": {},
     "output_type": "execute_result"
    },
    {
     "data": {
      "image/png": "[encoded data removed]",
      "text/plain": [
       "<Figure size 432x288 with 1 Axes>"
      ]
     },
     "metadata": {
      "needs_background": "light"
     },
     "output_type": "display_data"
    }
   ],
   "source": [
    "plt.imshow(f)"
   ]
  },
  {
   "cell_type": "code",
   "execution_count": 24,
   "metadata": {},
   "outputs": [],
   "source": [
    "def generate(st, s): \n",
    "    if len(s) == 0: \n",
    "        return\n",
    "  \n",
    "    if s not in st: \n",
    "        st.add(s) \n",
    "        for i in range(len(s)): \n",
    "            t = list(s)\n",
    "            t.remove(s[i]) \n",
    "            t = ''.join(t) \n",
    "            generate(st, t)\n",
    "    return"
   ]
  },
  {
   "cell_type": "code",
   "execution_count": 25,
   "metadata": {},
   "outputs": [],
   "source": [
    "st = set()\n",
    "generate(st,s)"
   ]
  },
  {
   "cell_type": "code",
   "execution_count": 26,
   "metadata": {},
   "outputs": [
    {
     "name": "stdout",
     "output_type": "stream",
     "text": [
      "tat\n",
      "aa\n",
      "ac\n",
      "rac\n",
      "tct\n",
      "trct\n",
      "ttt\n",
      "ara\n",
      "rat\n",
      "at\n",
      "attract\n",
      "ct\n",
      "rt\n",
      "arat\n",
      "aat\n",
      "rct\n",
      "atat\n",
      "tt\n",
      "attact\n",
      "ra\n",
      "rc\n",
      "aact\n",
      "atrat\n",
      "atract\n",
      "ttrct\n",
      "ttact\n",
      "tact\n",
      "c\n",
      "aract\n",
      "arac\n",
      "ttrat\n",
      "tract\n",
      "atact\n",
      "a\n",
      "ttct\n",
      "ract\n",
      "aac\n",
      "ttract\n",
      "attat\n",
      "ttrt\n",
      "trat\n",
      "r\n",
      "attrat\n",
      "t\n",
      "act\n",
      "ttat\n",
      "trt\n"
     ]
    }
   ],
   "source": [
    "for i in st:\n",
    "    print i"
   ]
  },
  {
   "cell_type": "code",
   "execution_count": 49,
   "metadata": {},
   "outputs": [
    {
     "name": "stdout",
     "output_type": "stream",
     "text": [
      "['tat', 'aa', 'tct', 'ttt', 'ara', 'tt', 'c', 'a', 'r', 't', 'trt']\n"
     ]
    }
   ],
   "source": [
    "def generate(st, s): \n",
    "    if len(s) == 0: \n",
    "        return\n",
    "  \n",
    "    if s not in st: \n",
    "        st.add(s) \n",
    "        for i in range(len(s)): \n",
    "            t = list(s)\n",
    "            t.remove(s[i]) \n",
    "            t = ''.join(t) \n",
    "            generate(st, t)\n",
    "    return\n",
    "\n",
    "def getScore(s):\n",
    "    # Write your code here\n",
    "    pals = []\n",
    "    st = set()\n",
    "    generate(st,s)\n",
    "    for i in st:\n",
    "        pals\n",
    "        if i == i == ''.join(reversed(i)):\n",
    "            pals.append(i)\n",
    "    print pals\n",
    "    \n",
    "getScore('attract')"
   ]
  },
  {
   "cell_type": "code",
   "execution_count": 89,
   "metadata": {},
   "outputs": [],
   "source": [
    "arr = [1,2,3,6]\n",
    "arr.sort()"
   ]
  },
  {
   "cell_type": "code",
   "execution_count": 90,
   "metadata": {},
   "outputs": [
    {
     "data": {
      "text/plain": [
       "[1, 2, 3, 6]"
      ]
     },
     "execution_count": 90,
     "metadata": {},
     "output_type": "execute_result"
    }
   ],
   "source": [
    "arr"
   ]
  },
  {
   "cell_type": "code",
   "execution_count": 91,
   "metadata": {},
   "outputs": [],
   "source": [
    "def isprime(n):\n",
    "    k = 2\n",
    "    while k<n/2:\n",
    "        if n%k ==0:\n",
    "            return False\n",
    "        k+=1\n",
    "    return True\n",
    "        "
   ]
  },
  {
   "cell_type": "code",
   "execution_count": 92,
   "metadata": {},
   "outputs": [],
   "source": [
    "i = 0\n",
    "count = 0\n",
    "max = 0\n",
    "while i<len(arr):\n",
    "    j = i+1\n",
    "    visited = []\n",
    "    while j<len(arr):\n",
    "        if(isprime(arr[j]/arr[i])):\n",
    "            visited.append(arr[j])\n",
    "        j += 1\n",
    "    if len(visited)> max:\n",
    "        max = len(visited)\n",
    "    i +=1\n",
    "    "
   ]
  },
  {
   "cell_type": "code",
   "execution_count": 93,
   "metadata": {},
   "outputs": [
    {
     "data": {
      "text/plain": [
       "2"
      ]
     },
     "execution_count": 93,
     "metadata": {},
     "output_type": "execute_result"
    }
   ],
   "source": [
    "max"
   ]
  },
  {
   "cell_type": "code",
   "execution_count": null,
   "metadata": {},
   "outputs": [],
   "source": []
  }
 ],
 "metadata": {
  "kernelspec": {
   "display_name": "Python 2",
   "language": "python",
   "name": "python2"
  },
  "language_info": {
   "codemirror_mode": {
    "name": "ipython",
    "version": 2
   },
   "file_extension": ".py",
   "mimetype": "text/x-python",
   "name": "python",
   "nbconvert_exporter": "python",
   "pygments_lexer": "ipython2",
   "version": "2.7.15"
  }
 },
 "nbformat": 4,
 "nbformat_minor": 2
}
