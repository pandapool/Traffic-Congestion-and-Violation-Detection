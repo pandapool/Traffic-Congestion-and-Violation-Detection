{
 "cells": [
  {
   "cell_type": "code",
   "execution_count": 2,
   "metadata": {},
   "outputs": [],
   "source": [
    "import cv2\n",
    "import numpy as np\n",
    "import time\n",
    "import matplotlib.pyplot as plt"
   ]
  },
  {
   "cell_type": "code",
   "execution_count": 4,
   "metadata": {},
   "outputs": [],
   "source": [
    "d2wheel = cv2.CascadeClassifier(\"c:/Users/hp/Desktop/TEST FOLDER/2wheel.xml\")"
   ]
  },
  {
   "cell_type": "code",
   "execution_count": 15,
   "metadata": {},
   "outputs": [],
   "source": [
    "no = 2\n",
    "cap = cv2.VideoCapture('g:/traffic/3/'+str(no)+'.mp4')\n",
    "\n",
    "count =0\n",
    "skip = 0\n",
    "while True:\n",
    "    _,frame = cap.read()\n",
    "\n",
    "    if type(frame) == type(None):\n",
    "        break\n",
    "    gray = cv2.cvtColor(frame,cv2.COLOR_BGR2GRAY)\n",
    "    \n",
    "    if skip == 0:\n",
    "        frame_copy = frame.copy()\n",
    "        twhl = d2wheel.detectMultiScale(gray,1.01,1,minSize=(70,70),maxSize=(200,200))\n",
    "\n",
    "        for (a,b,c,d) in twhl:\n",
    "            cv2.rectangle(frame_copy,(a,b),(a+c,b+d),(255,255,0),1)\n",
    "            roi = frame[b:b+d,a:a+c]\n",
    "\n",
    "            cv2.imwrite(\"C:/Users/hp/Desktop/traffic/\"+str(count)+'.jpeg',roi)\n",
    "            count = count+1\n",
    "        skip+=1\n",
    "    else:\n",
    "        skip+= 1\n",
    "        if skip ==5:\n",
    "            skip =0\n",
    "    cv2.imshow('frame',frame_copy)\n",
    "    \n",
    "    k = cv2.waitKey(33)\n",
    "    if k == 27:\n",
    "        break\n",
    "\n",
    "cap.release()\n",
    "cv2.destroyAllWindows()"
   ]
  },
  {
   "cell_type": "code",
   "execution_count": null,
   "metadata": {},
   "outputs": [],
   "source": []
  }
 ],
 "metadata": {
  "kernelspec": {
   "display_name": "Python 2",
   "language": "python",
   "name": "python2"
  },
  "language_info": {
   "codemirror_mode": {
    "name": "ipython",
    "version": 2
   },
   "file_extension": ".py",
   "mimetype": "text/x-python",
   "name": "python",
   "nbconvert_exporter": "python",
   "pygments_lexer": "ipython2",
   "version": "2.7.15"
  }
 },
 "nbformat": 4,
 "nbformat_minor": 2
}
